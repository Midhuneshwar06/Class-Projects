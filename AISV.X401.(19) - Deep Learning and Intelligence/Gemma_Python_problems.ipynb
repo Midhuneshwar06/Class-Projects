{
  "metadata": {
    "kernelspec": {
      "language": "python",
      "display_name": "Python 3",
      "name": "python3"
    },
    "language_info": {
      "name": "python",
      "version": "3.10.13",
      "mimetype": "text/x-python",
      "codemirror_mode": {
        "name": "ipython",
        "version": 3
      },
      "pygments_lexer": "ipython3",
      "nbconvert_exporter": "python",
      "file_extension": ".py"
    },
    "kaggle": {
      "accelerator": "none",
      "dataSources": [
        {
          "sourceId": 7809646,
          "sourceType": "datasetVersion",
          "datasetId": 4574022
        },
        {
          "sourceId": 11372,
          "sourceType": "modelInstanceVersion",
          "modelInstanceId": 5388,
          "modelId": 3533
        }
      ],
      "dockerImageVersionId": 30664,
      "isInternetEnabled": false,
      "language": "python",
      "sourceType": "notebook",
      "isGpuEnabled": false
    },
    "colab": {
      "name": "Gemma - Python problems",
      "provenance": []
    }
  },
  "nbformat_minor": 0,
  "nbformat": 4,
  "cells": [
    {
      "source": [
        "# IMPORTANT: SOME KAGGLE DATA SOURCES ARE PRIVATE\n",
        "# RUN THIS CELL IN ORDER TO IMPORT YOUR KAGGLE DATA SOURCES.\n",
        "import kagglehub\n",
        "kagglehub.login()\n"
      ],
      "metadata": {
        "id": "jC_Eju462u_h"
      },
      "cell_type": "code",
      "outputs": [],
      "execution_count": null
    },
    {
      "source": [
        "# IMPORTANT: RUN THIS CELL IN ORDER TO IMPORT YOUR KAGGLE DATA SOURCES,\n",
        "# THEN FEEL FREE TO DELETE THIS CELL.\n",
        "# NOTE: THIS NOTEBOOK ENVIRONMENT DIFFERS FROM KAGGLE'S PYTHON\n",
        "# ENVIRONMENT SO THERE MAY BE MISSING LIBRARIES USED BY YOUR\n",
        "# NOTEBOOK.\n",
        "\n",
        "orpheuswalker_python_qa_path = kagglehub.dataset_download('orpheuswalker/python-qa')\n",
        "keras_gemma_keras_gemma_instruct_2b_en_2_path = kagglehub.model_download('keras/gemma/Keras/gemma_instruct_2b_en/2')\n",
        "\n",
        "print('Data source import complete.')\n"
      ],
      "metadata": {
        "id": "gEYq9dNr2u_j"
      },
      "cell_type": "code",
      "outputs": [],
      "execution_count": null
    },
    {
      "cell_type": "code",
      "source": [
        "# This Python 3 environment comes with many helpful analytics libraries installed\n",
        "# It is defined by the kaggle/python Docker image: https://github.com/kaggle/docker-python\n",
        "# For example, here's several helpful packages to load\n",
        "\n",
        "import numpy as np # linear algebra\n",
        "import pandas as pd # data processing, CSV file I/O (e.g. pd.read_csv)\n",
        "\n",
        "# Input data files are available in the read-only \"../input/\" directory\n",
        "# For example, running this (by clicking run or pressing Shift+Enter) will list all files under the input directory\n",
        "\n",
        "import os\n",
        "for dirname, _, filenames in os.walk('/kaggle/input'):\n",
        "    for filename in filenames:\n",
        "        print(os.path.join(dirname, filename))\n",
        "\n",
        "# You can write up to 20GB to the current directory (/kaggle/working/) that gets preserved as output when you create a version using \"Save & Run All\"\n",
        "# You can also write temporary files to /kaggle/temp/, but they won't be saved outside of the current session"
      ],
      "metadata": {
        "_uuid": "8f2839f25d086af736a60e9eeb907d3b93b6e0e5",
        "_cell_guid": "b1076dfc-b9ad-4769-8c92-a6c4dae69d19",
        "execution": {
          "iopub.status.busy": "2025-03-21T16:50:05.174266Z",
          "iopub.execute_input": "2025-03-21T16:50:05.17484Z",
          "iopub.status.idle": "2025-03-21T16:50:05.651343Z",
          "shell.execute_reply.started": "2025-03-21T16:50:05.174772Z",
          "shell.execute_reply": "2025-03-21T16:50:05.650054Z"
        },
        "trusted": true,
        "id": "8ygOckU72u_l",
        "outputId": "787561df-d70f-4ac7-c44a-1d7d6b0f546d"
      },
      "outputs": [
        {
          "name": "stdout",
          "text": "/kaggle/input/gemma/keras/gemma_instruct_2b_en/2/config.json\n/kaggle/input/gemma/keras/gemma_instruct_2b_en/2/tokenizer.json\n/kaggle/input/gemma/keras/gemma_instruct_2b_en/2/metadata.json\n/kaggle/input/gemma/keras/gemma_instruct_2b_en/2/model.weights.h5\n/kaggle/input/gemma/keras/gemma_instruct_2b_en/2/assets/tokenizer/vocabulary.spm\n/kaggle/input/python-qa/python_qa.csv\n",
          "output_type": "stream"
        }
      ],
      "execution_count": null
    },
    {
      "cell_type": "code",
      "source": [
        "# Load dataset\n",
        "#data_file=\"/kaggle/input/data-002/python_qa.csv\"\n",
        "data_file=\"/kaggle/input/python-qa/python_qa.csv\"\n",
        "df = pd.read_csv(data_file, sep=';', dtype=str)\n",
        "print(len(df))\n",
        "\n",
        "df"
      ],
      "metadata": {
        "execution": {
          "iopub.status.busy": "2025-03-21T16:50:05.653252Z",
          "iopub.execute_input": "2025-03-21T16:50:05.65389Z",
          "iopub.status.idle": "2025-03-21T16:50:05.696565Z",
          "shell.execute_reply.started": "2025-03-21T16:50:05.653851Z",
          "shell.execute_reply": "2025-03-21T16:50:05.69536Z"
        },
        "trusted": true,
        "id": "eAvyhogL2u_m",
        "outputId": "ce24eb1e-5818-4576-ffa2-69fb6b6a47e3"
      },
      "outputs": [
        {
          "name": "stdout",
          "text": "166\n",
          "output_type": "stream"
        },
        {
          "execution_count": 2,
          "output_type": "execute_result",
          "data": {
            "text/plain": "                                              question  \\\n0    What is Python and what are the benefits of us...   \n1                                       What is PEP 8?   \n2                     What is pickling and unpickling?   \n3                           How Python is interpreted?   \n4                     How memory is managed in Python?   \n..                                                 ...   \n161         What is Python Developer Salary in the US?   \n162  What is the Average Python Developer Salary in...   \n163  Which Companies Are Hiring Python Developers i...   \n164                  Is Python a good career in India?   \n165          What kind of jobs can you do with Python?   \n\n                                                answer  \n0    Python is a programming language with objects,...  \n1    PEP 8 is a coding convention, a set of recomme...  \n2    Pickle module accepts any Python object and co...  \n3    Python language is an interpreted language. Py...  \n4    • Python memory is managed by Python private h...  \n..                                                 ...  \n161  A Python developer in the USA makes from $50,0...  \n162  The salary of a fresher Python developer in Ca...  \n163  Here are some of the top companies in India th...  \n164  Python development is a very good career optio...  \n165  You can develop codes and create software of a...  \n\n[166 rows x 2 columns]",
            "text/html": "<div>\n<style scoped>\n    .dataframe tbody tr th:only-of-type {\n        vertical-align: middle;\n    }\n\n    .dataframe tbody tr th {\n        vertical-align: top;\n    }\n\n    .dataframe thead th {\n        text-align: right;\n    }\n</style>\n<table border=\"1\" class=\"dataframe\">\n  <thead>\n    <tr style=\"text-align: right;\">\n      <th></th>\n      <th>question</th>\n      <th>answer</th>\n    </tr>\n  </thead>\n  <tbody>\n    <tr>\n      <th>0</th>\n      <td>What is Python and what are the benefits of us...</td>\n      <td>Python is a programming language with objects,...</td>\n    </tr>\n    <tr>\n      <th>1</th>\n      <td>What is PEP 8?</td>\n      <td>PEP 8 is a coding convention, a set of recomme...</td>\n    </tr>\n    <tr>\n      <th>2</th>\n      <td>What is pickling and unpickling?</td>\n      <td>Pickle module accepts any Python object and co...</td>\n    </tr>\n    <tr>\n      <th>3</th>\n      <td>How Python is interpreted?</td>\n      <td>Python language is an interpreted language. Py...</td>\n    </tr>\n    <tr>\n      <th>4</th>\n      <td>How memory is managed in Python?</td>\n      <td>• Python memory is managed by Python private h...</td>\n    </tr>\n    <tr>\n      <th>...</th>\n      <td>...</td>\n      <td>...</td>\n    </tr>\n    <tr>\n      <th>161</th>\n      <td>What is Python Developer Salary in the US?</td>\n      <td>A Python developer in the USA makes from $50,0...</td>\n    </tr>\n    <tr>\n      <th>162</th>\n      <td>What is the Average Python Developer Salary in...</td>\n      <td>The salary of a fresher Python developer in Ca...</td>\n    </tr>\n    <tr>\n      <th>163</th>\n      <td>Which Companies Are Hiring Python Developers i...</td>\n      <td>Here are some of the top companies in India th...</td>\n    </tr>\n    <tr>\n      <th>164</th>\n      <td>Is Python a good career in India?</td>\n      <td>Python development is a very good career optio...</td>\n    </tr>\n    <tr>\n      <th>165</th>\n      <td>What kind of jobs can you do with Python?</td>\n      <td>You can develop codes and create software of a...</td>\n    </tr>\n  </tbody>\n</table>\n<p>166 rows × 2 columns</p>\n</div>"
          },
          "metadata": {}
        }
      ],
      "execution_count": null
    },
    {
      "cell_type": "code",
      "source": [
        "df.question.isnull().any()"
      ],
      "metadata": {
        "execution": {
          "iopub.status.busy": "2025-03-21T16:50:05.698112Z",
          "iopub.execute_input": "2025-03-21T16:50:05.698516Z",
          "iopub.status.idle": "2025-03-21T16:50:05.708624Z",
          "shell.execute_reply.started": "2025-03-21T16:50:05.698481Z",
          "shell.execute_reply": "2025-03-21T16:50:05.707287Z"
        },
        "trusted": true,
        "id": "_JRz36p52u_n",
        "outputId": "dc5a79b1-2eb3-4df9-cb8f-1e9542b27a20"
      },
      "outputs": [
        {
          "execution_count": 3,
          "output_type": "execute_result",
          "data": {
            "text/plain": "False"
          },
          "metadata": {}
        }
      ],
      "execution_count": null
    },
    {
      "cell_type": "code",
      "source": [
        "df.answer.isnull().any()\n"
      ],
      "metadata": {
        "execution": {
          "iopub.status.busy": "2025-03-21T16:50:05.710255Z",
          "iopub.execute_input": "2025-03-21T16:50:05.710955Z",
          "iopub.status.idle": "2025-03-21T16:50:05.725837Z",
          "shell.execute_reply.started": "2025-03-21T16:50:05.710911Z",
          "shell.execute_reply": "2025-03-21T16:50:05.724389Z"
        },
        "trusted": true,
        "id": "rlvfUzme2u_o",
        "outputId": "1466d417-802b-4c46-ff3d-1879d6f88d39"
      },
      "outputs": [
        {
          "execution_count": 4,
          "output_type": "execute_result",
          "data": {
            "text/plain": "False"
          },
          "metadata": {}
        }
      ],
      "execution_count": null
    },
    {
      "cell_type": "code",
      "source": [
        "print(df.answer[68])"
      ],
      "metadata": {
        "execution": {
          "iopub.status.busy": "2025-03-21T16:50:05.729466Z",
          "iopub.execute_input": "2025-03-21T16:50:05.730451Z",
          "iopub.status.idle": "2025-03-21T16:50:05.739106Z",
          "shell.execute_reply.started": "2025-03-21T16:50:05.730415Z",
          "shell.execute_reply": "2025-03-21T16:50:05.737829Z"
        },
        "trusted": true,
        "id": "Lhml-cTn2u_p",
        "outputId": "b4528b82-e6c6-4291-dd45-ef2d89f05aee"
      },
      "outputs": [
        {
          "name": "stdout",
          "text": "OS module\\nRandom module\\nSys module\\nJSON\\nMath module\\nCollective module\n",
          "output_type": "stream"
        }
      ],
      "execution_count": null
    },
    {
      "cell_type": "markdown",
      "source": [],
      "metadata": {
        "id": "k3-zzaBh2u_q"
      }
    },
    {
      "cell_type": "markdown",
      "source": [
        "\n",
        "\n",
        "\n",
        "\n",
        "**Remove the occurence of \"\\n\" in answer with actual new line.**\n",
        "\n",
        "\n"
      ],
      "metadata": {
        "id": "Us9vuNQv2u_r"
      }
    },
    {
      "cell_type": "code",
      "source": [
        "import re\n",
        "s = r\"\\\\n\"\n",
        "for i in range(len(df.question)):\n",
        "    df.loc[i, 'answer'] = re.sub(s, \"\\n\", df.answer[i])\n",
        "df"
      ],
      "metadata": {
        "execution": {
          "iopub.status.busy": "2025-03-21T16:50:05.740908Z",
          "iopub.execute_input": "2025-03-21T16:50:05.741335Z",
          "iopub.status.idle": "2025-03-21T16:50:05.788238Z",
          "shell.execute_reply.started": "2025-03-21T16:50:05.741298Z",
          "shell.execute_reply": "2025-03-21T16:50:05.787111Z"
        },
        "trusted": true,
        "id": "VhfVe6cV2u_r",
        "outputId": "22fb7630-ce76-48df-ec1d-9accad47bf6d"
      },
      "outputs": [
        {
          "execution_count": 6,
          "output_type": "execute_result",
          "data": {
            "text/plain": "                                              question  \\\n0    What is Python and what are the benefits of us...   \n1                                       What is PEP 8?   \n2                     What is pickling and unpickling?   \n3                           How Python is interpreted?   \n4                     How memory is managed in Python?   \n..                                                 ...   \n161         What is Python Developer Salary in the US?   \n162  What is the Average Python Developer Salary in...   \n163  Which Companies Are Hiring Python Developers i...   \n164                  Is Python a good career in India?   \n165          What kind of jobs can you do with Python?   \n\n                                                answer  \n0    Python is a programming language with objects,...  \n1    PEP 8 is a coding convention, a set of recomme...  \n2    Pickle module accepts any Python object and co...  \n3    Python language is an interpreted language. Py...  \n4    • Python memory is managed by Python private h...  \n..                                                 ...  \n161  A Python developer in the USA makes from $50,0...  \n162  The salary of a fresher Python developer in Ca...  \n163  Here are some of the top companies in India th...  \n164  Python development is a very good career optio...  \n165  You can develop codes and create software of a...  \n\n[166 rows x 2 columns]",
            "text/html": "<div>\n<style scoped>\n    .dataframe tbody tr th:only-of-type {\n        vertical-align: middle;\n    }\n\n    .dataframe tbody tr th {\n        vertical-align: top;\n    }\n\n    .dataframe thead th {\n        text-align: right;\n    }\n</style>\n<table border=\"1\" class=\"dataframe\">\n  <thead>\n    <tr style=\"text-align: right;\">\n      <th></th>\n      <th>question</th>\n      <th>answer</th>\n    </tr>\n  </thead>\n  <tbody>\n    <tr>\n      <th>0</th>\n      <td>What is Python and what are the benefits of us...</td>\n      <td>Python is a programming language with objects,...</td>\n    </tr>\n    <tr>\n      <th>1</th>\n      <td>What is PEP 8?</td>\n      <td>PEP 8 is a coding convention, a set of recomme...</td>\n    </tr>\n    <tr>\n      <th>2</th>\n      <td>What is pickling and unpickling?</td>\n      <td>Pickle module accepts any Python object and co...</td>\n    </tr>\n    <tr>\n      <th>3</th>\n      <td>How Python is interpreted?</td>\n      <td>Python language is an interpreted language. Py...</td>\n    </tr>\n    <tr>\n      <th>4</th>\n      <td>How memory is managed in Python?</td>\n      <td>• Python memory is managed by Python private h...</td>\n    </tr>\n    <tr>\n      <th>...</th>\n      <td>...</td>\n      <td>...</td>\n    </tr>\n    <tr>\n      <th>161</th>\n      <td>What is Python Developer Salary in the US?</td>\n      <td>A Python developer in the USA makes from $50,0...</td>\n    </tr>\n    <tr>\n      <th>162</th>\n      <td>What is the Average Python Developer Salary in...</td>\n      <td>The salary of a fresher Python developer in Ca...</td>\n    </tr>\n    <tr>\n      <th>163</th>\n      <td>Which Companies Are Hiring Python Developers i...</td>\n      <td>Here are some of the top companies in India th...</td>\n    </tr>\n    <tr>\n      <th>164</th>\n      <td>Is Python a good career in India?</td>\n      <td>Python development is a very good career optio...</td>\n    </tr>\n    <tr>\n      <th>165</th>\n      <td>What kind of jobs can you do with Python?</td>\n      <td>You can develop codes and create software of a...</td>\n    </tr>\n  </tbody>\n</table>\n<p>166 rows × 2 columns</p>\n</div>"
          },
          "metadata": {}
        }
      ],
      "execution_count": null
    },
    {
      "cell_type": "code",
      "source": [
        "print(df.answer[68])"
      ],
      "metadata": {
        "execution": {
          "iopub.status.busy": "2025-03-21T16:50:05.789561Z",
          "iopub.execute_input": "2025-03-21T16:50:05.78997Z",
          "iopub.status.idle": "2025-03-21T16:50:05.796501Z",
          "shell.execute_reply.started": "2025-03-21T16:50:05.789934Z",
          "shell.execute_reply": "2025-03-21T16:50:05.795167Z"
        },
        "trusted": true,
        "id": "7DWirE_F2u_s",
        "outputId": "3fdedbca-a4c5-42ce-f16d-dd4de98bcd89"
      },
      "outputs": [
        {
          "name": "stdout",
          "text": "OS module\nRandom module\nSys module\nJSON\nMath module\nCollective module\n",
          "output_type": "stream"
        }
      ],
      "execution_count": null
    },
    {
      "cell_type": "code",
      "source": [
        "# Import Keras and KerasNLP\n",
        "import keras\n",
        "import keras_nlp\n",
        "\n",
        "\n",
        "# Select a backend\n",
        "import os\n",
        "\n",
        "os.environ[\"KERAS_BACKEND\"] = \"flax\"  # Or \"tensorflow\" or \"torch\".\n",
        "\n",
        "# Create a model\n",
        "# A causal language model predicts the next token based on previous tokens.\n",
        "# from_preset instantiates the model from a preset architecture and weights.\n",
        "# \"gemma_2b_en\" specifies a preset Gemma model with 2 billion parameters.\n",
        "# Alternatively, you can perform distributed tuning on a Gemma 7B model on Kaggle or Google Cloud.\n",
        "#checkpoint='/kaggle/input/gemma/keras/gemma_instruct_2b_en/2'\n",
        "checkpoint=\"gemma_instruct_2b_en\"\n",
        "gemma_lm = keras_nlp.models.GemmaCausalLM.from_preset(checkpoint)"
      ],
      "metadata": {
        "execution": {
          "iopub.status.busy": "2025-03-21T16:50:05.797985Z",
          "iopub.execute_input": "2025-03-21T16:50:05.798339Z",
          "iopub.status.idle": "2025-03-21T16:51:36.647276Z",
          "shell.execute_reply.started": "2025-03-21T16:50:05.798311Z",
          "shell.execute_reply": "2025-03-21T16:51:36.646006Z"
        },
        "trusted": true,
        "id": "OSUpYLbI2u_t",
        "outputId": "63264ed3-a47d-4539-9012-0ccfe9c1a516"
      },
      "outputs": [
        {
          "name": "stderr",
          "text": "2025-03-21 16:50:08.193765: E external/local_xla/xla/stream_executor/cuda/cuda_dnn.cc:9261] Unable to register cuDNN factory: Attempting to register factory for plugin cuDNN when one has already been registered\n2025-03-21 16:50:08.193965: E external/local_xla/xla/stream_executor/cuda/cuda_fft.cc:607] Unable to register cuFFT factory: Attempting to register factory for plugin cuFFT when one has already been registered\n2025-03-21 16:50:08.356880: E external/local_xla/xla/stream_executor/cuda/cuda_blas.cc:1515] Unable to register cuBLAS factory: Attempting to register factory for plugin cuBLAS when one has already been registered\nAttaching 'config.json' from model 'keras/gemma/keras/gemma_instruct_2b_en/2' to your Kaggle notebook...\nAttaching 'config.json' from model 'keras/gemma/keras/gemma_instruct_2b_en/2' to your Kaggle notebook...\nAttaching 'model.weights.h5' from model 'keras/gemma/keras/gemma_instruct_2b_en/2' to your Kaggle notebook...\nAttaching 'tokenizer.json' from model 'keras/gemma/keras/gemma_instruct_2b_en/2' to your Kaggle notebook...\nAttaching 'assets/tokenizer/vocabulary.spm' from model 'keras/gemma/keras/gemma_instruct_2b_en/2' to your Kaggle notebook...\nnormalizer.cc(51) LOG(INFO) precompiled_charsmap is empty. use identity normalization.\n",
          "output_type": "stream"
        }
      ],
      "execution_count": null
    },
    {
      "cell_type": "code",
      "source": [
        "gemma_lm.summary()"
      ],
      "metadata": {
        "execution": {
          "iopub.status.busy": "2025-03-21T16:51:36.648664Z",
          "iopub.execute_input": "2025-03-21T16:51:36.649161Z",
          "iopub.status.idle": "2025-03-21T16:51:36.68572Z",
          "shell.execute_reply.started": "2025-03-21T16:51:36.649123Z",
          "shell.execute_reply": "2025-03-21T16:51:36.684639Z"
        },
        "trusted": true,
        "id": "E_s0_1HA2u_t",
        "outputId": "cb8f5828-a817-4eea-8e52-1789e774a7c8"
      },
      "outputs": [
        {
          "output_type": "display_data",
          "data": {
            "text/plain": "\u001b[1mPreprocessor: \"gemma_causal_lm_preprocessor\"\u001b[0m\n",
            "text/html": "<pre style=\"white-space:pre;overflow-x:auto;line-height:normal;font-family:Menlo,'DejaVu Sans Mono',consolas,'Courier New',monospace\"><span style=\"font-weight: bold\">Preprocessor: \"gemma_causal_lm_preprocessor\"</span>\n</pre>\n"
          },
          "metadata": {}
        },
        {
          "output_type": "display_data",
          "data": {
            "text/plain": "┏━━━━━━━━━━━━━━━━━━━━━━━━━━━━━━━━━━━━━━━━━━━━━━━━━━━━┳━━━━━━━━━━━━━━━━━━━━━━━━━━━━━━━━━━━━━━━━━━━━━━━━━━━━━┓\n┃\u001b[1m \u001b[0m\u001b[1mTokenizer (type)                                  \u001b[0m\u001b[1m \u001b[0m┃\u001b[1m \u001b[0m\u001b[1m                                            Vocab #\u001b[0m\u001b[1m \u001b[0m┃\n┡━━━━━━━━━━━━━━━━━━━━━━━━━━━━━━━━━━━━━━━━━━━━━━━━━━━━╇━━━━━━━━━━━━━━━━━━━━━━━━━━━━━━━━━━━━━━━━━━━━━━━━━━━━━┩\n│ gemma_tokenizer (\u001b[38;5;33mGemmaTokenizer\u001b[0m)                   │                                             \u001b[38;5;34m256,000\u001b[0m │\n└────────────────────────────────────────────────────┴─────────────────────────────────────────────────────┘\n",
            "text/html": "<pre style=\"white-space:pre;overflow-x:auto;line-height:normal;font-family:Menlo,'DejaVu Sans Mono',consolas,'Courier New',monospace\">┏━━━━━━━━━━━━━━━━━━━━━━━━━━━━━━━━━━━━━━━━━━━━━━━━━━━━┳━━━━━━━━━━━━━━━━━━━━━━━━━━━━━━━━━━━━━━━━━━━━━━━━━━━━━┓\n┃<span style=\"font-weight: bold\"> Tokenizer (type)                                   </span>┃<span style=\"font-weight: bold\">                                             Vocab # </span>┃\n┡━━━━━━━━━━━━━━━━━━━━━━━━━━━━━━━━━━━━━━━━━━━━━━━━━━━━╇━━━━━━━━━━━━━━━━━━━━━━━━━━━━━━━━━━━━━━━━━━━━━━━━━━━━━┩\n│ gemma_tokenizer (<span style=\"color: #0087ff; text-decoration-color: #0087ff\">GemmaTokenizer</span>)                   │                                             <span style=\"color: #00af00; text-decoration-color: #00af00\">256,000</span> │\n└────────────────────────────────────────────────────┴─────────────────────────────────────────────────────┘\n</pre>\n"
          },
          "metadata": {}
        },
        {
          "output_type": "display_data",
          "data": {
            "text/plain": "\u001b[1mModel: \"gemma_causal_lm\"\u001b[0m\n",
            "text/html": "<pre style=\"white-space:pre;overflow-x:auto;line-height:normal;font-family:Menlo,'DejaVu Sans Mono',consolas,'Courier New',monospace\"><span style=\"font-weight: bold\">Model: \"gemma_causal_lm\"</span>\n</pre>\n"
          },
          "metadata": {}
        },
        {
          "output_type": "display_data",
          "data": {
            "text/plain": "┏━━━━━━━━━━━━━━━━━━━━━━━━━━━━━━━┳━━━━━━━━━━━━━━━━━━━━━━━━━━━┳━━━━━━━━━━━━━━━━━┳━━━━━━━━━━━━━━━━━━━━━━━━━━━━┓\n┃\u001b[1m \u001b[0m\u001b[1mLayer (type)                 \u001b[0m\u001b[1m \u001b[0m┃\u001b[1m \u001b[0m\u001b[1mOutput Shape             \u001b[0m\u001b[1m \u001b[0m┃\u001b[1m \u001b[0m\u001b[1m        Param #\u001b[0m\u001b[1m \u001b[0m┃\u001b[1m \u001b[0m\u001b[1mConnected to              \u001b[0m\u001b[1m \u001b[0m┃\n┡━━━━━━━━━━━━━━━━━━━━━━━━━━━━━━━╇━━━━━━━━━━━━━━━━━━━━━━━━━━━╇━━━━━━━━━━━━━━━━━╇━━━━━━━━━━━━━━━━━━━━━━━━━━━━┩\n│ padding_mask (\u001b[38;5;33mInputLayer\u001b[0m)     │ (\u001b[38;5;45mNone\u001b[0m, \u001b[38;5;45mNone\u001b[0m)              │               \u001b[38;5;34m0\u001b[0m │ -                          │\n├───────────────────────────────┼───────────────────────────┼─────────────────┼────────────────────────────┤\n│ token_ids (\u001b[38;5;33mInputLayer\u001b[0m)        │ (\u001b[38;5;45mNone\u001b[0m, \u001b[38;5;45mNone\u001b[0m)              │               \u001b[38;5;34m0\u001b[0m │ -                          │\n├───────────────────────────────┼───────────────────────────┼─────────────────┼────────────────────────────┤\n│ gemma_backbone                │ (\u001b[38;5;45mNone\u001b[0m, \u001b[38;5;45mNone\u001b[0m, \u001b[38;5;34m2048\u001b[0m)        │   \u001b[38;5;34m2,506,172,416\u001b[0m │ padding_mask[\u001b[38;5;34m0\u001b[0m][\u001b[38;5;34m0\u001b[0m],        │\n│ (\u001b[38;5;33mGemmaBackbone\u001b[0m)               │                           │                 │ token_ids[\u001b[38;5;34m0\u001b[0m][\u001b[38;5;34m0\u001b[0m]            │\n├───────────────────────────────┼───────────────────────────┼─────────────────┼────────────────────────────┤\n│ token_embedding               │ (\u001b[38;5;45mNone\u001b[0m, \u001b[38;5;45mNone\u001b[0m, \u001b[38;5;34m256000\u001b[0m)      │     \u001b[38;5;34m524,288,000\u001b[0m │ gemma_backbone[\u001b[38;5;34m0\u001b[0m][\u001b[38;5;34m0\u001b[0m]       │\n│ (\u001b[38;5;33mReversibleEmbedding\u001b[0m)         │                           │                 │                            │\n└───────────────────────────────┴───────────────────────────┴─────────────────┴────────────────────────────┘\n",
            "text/html": "<pre style=\"white-space:pre;overflow-x:auto;line-height:normal;font-family:Menlo,'DejaVu Sans Mono',consolas,'Courier New',monospace\">┏━━━━━━━━━━━━━━━━━━━━━━━━━━━━━━━┳━━━━━━━━━━━━━━━━━━━━━━━━━━━┳━━━━━━━━━━━━━━━━━┳━━━━━━━━━━━━━━━━━━━━━━━━━━━━┓\n┃<span style=\"font-weight: bold\"> Layer (type)                  </span>┃<span style=\"font-weight: bold\"> Output Shape              </span>┃<span style=\"font-weight: bold\">         Param # </span>┃<span style=\"font-weight: bold\"> Connected to               </span>┃\n┡━━━━━━━━━━━━━━━━━━━━━━━━━━━━━━━╇━━━━━━━━━━━━━━━━━━━━━━━━━━━╇━━━━━━━━━━━━━━━━━╇━━━━━━━━━━━━━━━━━━━━━━━━━━━━┩\n│ padding_mask (<span style=\"color: #0087ff; text-decoration-color: #0087ff\">InputLayer</span>)     │ (<span style=\"color: #00d7ff; text-decoration-color: #00d7ff\">None</span>, <span style=\"color: #00d7ff; text-decoration-color: #00d7ff\">None</span>)              │               <span style=\"color: #00af00; text-decoration-color: #00af00\">0</span> │ -                          │\n├───────────────────────────────┼───────────────────────────┼─────────────────┼────────────────────────────┤\n│ token_ids (<span style=\"color: #0087ff; text-decoration-color: #0087ff\">InputLayer</span>)        │ (<span style=\"color: #00d7ff; text-decoration-color: #00d7ff\">None</span>, <span style=\"color: #00d7ff; text-decoration-color: #00d7ff\">None</span>)              │               <span style=\"color: #00af00; text-decoration-color: #00af00\">0</span> │ -                          │\n├───────────────────────────────┼───────────────────────────┼─────────────────┼────────────────────────────┤\n│ gemma_backbone                │ (<span style=\"color: #00d7ff; text-decoration-color: #00d7ff\">None</span>, <span style=\"color: #00d7ff; text-decoration-color: #00d7ff\">None</span>, <span style=\"color: #00af00; text-decoration-color: #00af00\">2048</span>)        │   <span style=\"color: #00af00; text-decoration-color: #00af00\">2,506,172,416</span> │ padding_mask[<span style=\"color: #00af00; text-decoration-color: #00af00\">0</span>][<span style=\"color: #00af00; text-decoration-color: #00af00\">0</span>],        │\n│ (<span style=\"color: #0087ff; text-decoration-color: #0087ff\">GemmaBackbone</span>)               │                           │                 │ token_ids[<span style=\"color: #00af00; text-decoration-color: #00af00\">0</span>][<span style=\"color: #00af00; text-decoration-color: #00af00\">0</span>]            │\n├───────────────────────────────┼───────────────────────────┼─────────────────┼────────────────────────────┤\n│ token_embedding               │ (<span style=\"color: #00d7ff; text-decoration-color: #00d7ff\">None</span>, <span style=\"color: #00d7ff; text-decoration-color: #00d7ff\">None</span>, <span style=\"color: #00af00; text-decoration-color: #00af00\">256000</span>)      │     <span style=\"color: #00af00; text-decoration-color: #00af00\">524,288,000</span> │ gemma_backbone[<span style=\"color: #00af00; text-decoration-color: #00af00\">0</span>][<span style=\"color: #00af00; text-decoration-color: #00af00\">0</span>]       │\n│ (<span style=\"color: #0087ff; text-decoration-color: #0087ff\">ReversibleEmbedding</span>)         │                           │                 │                            │\n└───────────────────────────────┴───────────────────────────┴─────────────────┴────────────────────────────┘\n</pre>\n"
          },
          "metadata": {}
        },
        {
          "output_type": "display_data",
          "data": {
            "text/plain": "\u001b[1m Total params: \u001b[0m\u001b[38;5;34m2,506,172,416\u001b[0m (9.34 GB)\n",
            "text/html": "<pre style=\"white-space:pre;overflow-x:auto;line-height:normal;font-family:Menlo,'DejaVu Sans Mono',consolas,'Courier New',monospace\"><span style=\"font-weight: bold\"> Total params: </span><span style=\"color: #00af00; text-decoration-color: #00af00\">2,506,172,416</span> (9.34 GB)\n</pre>\n"
          },
          "metadata": {}
        },
        {
          "output_type": "display_data",
          "data": {
            "text/plain": "\u001b[1m Trainable params: \u001b[0m\u001b[38;5;34m2,506,172,416\u001b[0m (9.34 GB)\n",
            "text/html": "<pre style=\"white-space:pre;overflow-x:auto;line-height:normal;font-family:Menlo,'DejaVu Sans Mono',consolas,'Courier New',monospace\"><span style=\"font-weight: bold\"> Trainable params: </span><span style=\"color: #00af00; text-decoration-color: #00af00\">2,506,172,416</span> (9.34 GB)\n</pre>\n"
          },
          "metadata": {}
        },
        {
          "output_type": "display_data",
          "data": {
            "text/plain": "\u001b[1m Non-trainable params: \u001b[0m\u001b[38;5;34m0\u001b[0m (0.00 B)\n",
            "text/html": "<pre style=\"white-space:pre;overflow-x:auto;line-height:normal;font-family:Menlo,'DejaVu Sans Mono',consolas,'Courier New',monospace\"><span style=\"font-weight: bold\"> Non-trainable params: </span><span style=\"color: #00af00; text-decoration-color: #00af00\">0</span> (0.00 B)\n</pre>\n"
          },
          "metadata": {}
        }
      ],
      "execution_count": null
    },
    {
      "cell_type": "code",
      "source": [
        "gemma_lm.compile(sampler=\"greedy\")"
      ],
      "metadata": {
        "execution": {
          "iopub.status.busy": "2025-03-21T16:51:36.6869Z",
          "iopub.execute_input": "2025-03-21T16:51:36.687206Z",
          "iopub.status.idle": "2025-03-21T16:51:36.697009Z",
          "shell.execute_reply.started": "2025-03-21T16:51:36.687182Z",
          "shell.execute_reply": "2025-03-21T16:51:36.696028Z"
        },
        "trusted": true,
        "id": "uXYUX_0E2u_u"
      },
      "outputs": [],
      "execution_count": null
    },
    {
      "cell_type": "code",
      "source": [
        "prompt1='What is Python?'\n",
        "\n",
        "gemma_lm.generate(prompt1, max_length=256)"
      ],
      "metadata": {
        "execution": {
          "iopub.status.busy": "2025-03-21T16:51:36.698275Z",
          "iopub.execute_input": "2025-03-21T16:51:36.698591Z",
          "iopub.status.idle": "2025-03-21T17:00:25.720682Z",
          "shell.execute_reply.started": "2025-03-21T16:51:36.698567Z",
          "shell.execute_reply": "2025-03-21T17:00:25.718603Z"
        },
        "trusted": true,
        "id": "T6pssBaP2u_u",
        "outputId": "b2ec76f0-ba70-4143-dd09-d34828fac57a"
      },
      "outputs": [
        {
          "name": "stderr",
          "text": "WARNING: All log messages before absl::InitializeLog() is called are written to STDERR\nI0000 00:00:1742575922.239900      33 device_compiler.h:186] Compiled cluster using XLA!  This line is logged at most once for the lifetime of the process.\n2025-03-21 16:52:02.278110: E external/local_xla/xla/stream_executor/stream_executor_internal.h:177] SetPriority unimplemented for this stream.\n",
          "output_type": "stream"
        },
        {
          "execution_count": 11,
          "output_type": "execute_result",
          "data": {
            "text/plain": "'What is Python?\\n\\nPython is a high-level programming language that is known for its simplicity, readability, and versatility. It is often used for a variety of tasks, including:\\n\\n* **Data science:** Python is a popular language for data analysis and machine learning. It has a rich collection of libraries and tools that make it easy to manipulate and analyze data.\\n* **Web development:** Python can be used to create simple websites and web applications. It has a built-in web framework called Django that makes it easy to build complex web applications.\\n* **Data analysis:** Python is a versatile language that can be used for a variety of data analysis tasks. It has a wide range of libraries and tools that make it easy to perform data analysis, including data wrangling, data cleaning, and data visualization.\\n* **Machine learning:** Python is a powerful language for machine learning. It has a rich collection of libraries and tools that make it easy to build and train machine learning models.\\n\\nHere are some of the key features of Python:\\n\\n* **Simple syntax:** Python has a simple and easy-to-understand syntax that makes it easy to learn.\\n* **Dynamic typing:** Python is a dynamically typed language, which means that you do not'"
          },
          "metadata": {}
        }
      ],
      "execution_count": null
    },
    {
      "cell_type": "code",
      "source": [
        "gemma_lm.compile(sampler=\"top_k\")\n",
        "gemma_lm.generate(prompt1, max_length=256)"
      ],
      "metadata": {
        "trusted": true,
        "execution": {
          "iopub.status.busy": "2025-03-21T17:00:25.723185Z",
          "iopub.execute_input": "2025-03-21T17:00:25.723726Z",
          "iopub.status.idle": "2025-03-21T17:08:50.255282Z",
          "shell.execute_reply.started": "2025-03-21T17:00:25.723667Z",
          "shell.execute_reply": "2025-03-21T17:08:50.254125Z"
        },
        "id": "oTPIbX1o2u_u",
        "outputId": "50922db5-f42a-487e-8a0a-ed5d2ebd61a3"
      },
      "outputs": [
        {
          "execution_count": 12,
          "output_type": "execute_result",
          "data": {
            "text/plain": "'What is Python?\\n\\nPython is a high-level programming language that is known for its clear and concise syntax. Python is often used for data science, machine learning, web development, and other applications.\\n\\nHere are some of the key features of Python:\\n\\n* **Easy to learn:** Python has a simple and intuitive syntax that makes it easy for beginners to learn.\\n* **Dynamic typing:** Python is a dynamically typed language, which means that data type is not explicitly declared. This allows Python to handle data of different types without the need for explicit type casting.\\n* **Object-oriented programming:** Python supports object-oriented programming, which allows developers to create complex data structures and algorithms.\\n* **Extensive libraries:** Python has a vast collection of libraries that extend the functionality of the language. These libraries can be used for a variety of tasks, such as data manipulation, statistical analysis, machine learning, and web development.\\n\\nHere are some examples of real-world applications of Python:\\n\\n* **Data science:** Python is often used for data science and machine learning tasks due to its vast collection of libraries for data manipulation, statistical analysis, and machine learning algorithms.\\n* **Web development:** Python can be used to build web applications with frameworks such as'"
          },
          "metadata": {}
        }
      ],
      "execution_count": null
    }
  ]
}